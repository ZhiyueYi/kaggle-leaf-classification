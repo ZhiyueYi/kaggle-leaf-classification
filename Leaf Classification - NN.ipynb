{
 "cells": [
  {
   "cell_type": "markdown",
   "metadata": {},
   "source": [
    "# Leaf Classfication \n",
    "A For CZ4041 Machine Learning Assignment from PT3 in AY2018/2019 Semester 2.\n",
    "The group members are:\n",
    "- LIU Yiqing\n",
    "- LUO Bingyi\n",
    "- TENG He Xu\n",
    "- WANG Jia\n",
    "- YI Zhiyue\n",
    "- ZHAO Ziru"
   ]
  },
  {
   "cell_type": "markdown",
   "metadata": {},
   "source": [
    "## Import necessary libraries and Define Constants"
   ]
  },
  {
   "cell_type": "code",
   "execution_count": 2,
   "metadata": {},
   "outputs": [
    {
     "name": "stderr",
     "output_type": "stream",
     "text": [
      "Using TensorFlow backend.\n"
     ]
    }
   ],
   "source": [
    "import os\n",
    "import csv\n",
    "import pandas as pd\n",
    "import numpy as np\n",
    "import tensorflow as tf\n",
    "from matplotlib import pyplot as plt\n",
    "from keras.models import Sequential\n",
    "from keras.layers import Dense, Activation, Dropout\n",
    "from keras.utils import to_categorical\n",
    "from keras.preprocessing.text import Tokenizer\n",
    "from sklearn.preprocessing import LabelEncoder, StandardScaler\n",
    "\n",
    "LABEL_PATH = 'data/'\n",
    "TRAIN_FILE_NAME = 'train.csv'\n",
    "TEST_FILE_NAME = 'test.csv'\n"
   ]
  },
  {
   "cell_type": "markdown",
   "metadata": {},
   "source": [
    "## Load From CSV"
   ]
  },
  {
   "cell_type": "markdown",
   "metadata": {},
   "source": [
    "Load features and labels from the train csv file"
   ]
  },
  {
   "cell_type": "code",
   "execution_count": 3,
   "metadata": {},
   "outputs": [],
   "source": [
    "train_data_frame = pd.read_csv(LABEL_PATH + TRAIN_FILE_NAME)\n",
    "\n",
    "train_data_frame = train_data_frame.drop(['id'], axis=1)\n",
    "\n",
    "train_y = train_data_frame.pop('species')\n",
    "classes = np.unique(train_y)\n",
    "\n",
    "train_y = to_categorical(LabelEncoder().fit(train_y).transform(train_y))\n",
    "\n",
    "#train_x = StandardScaler().fit(train_data_frame).transform(train_data_frame)\n",
    "train_x = train_data_frame.get_values()"
   ]
  },
  {
   "cell_type": "code",
   "execution_count": 4,
   "metadata": {},
   "outputs": [],
   "source": [
    "no_of_classes = len(np.unique(train_y, axis=0))"
   ]
  },
  {
   "cell_type": "code",
   "execution_count": 5,
   "metadata": {},
   "outputs": [
    {
     "data": {
      "text/plain": [
       "array([[ 0.007812,  0.023438,  0.023438, ...,  0.004883,  0.      ,\n",
       "         0.025391],\n",
       "       [ 0.005859,  0.      ,  0.03125 , ...,  0.000977,  0.039062,\n",
       "         0.022461],\n",
       "       [ 0.005859,  0.009766,  0.019531, ...,  0.      ,  0.020508,\n",
       "         0.00293 ],\n",
       "       ..., \n",
       "       [ 0.001953,  0.003906,  0.      , ...,  0.027344,  0.      ,\n",
       "         0.001953],\n",
       "       [ 0.      ,  0.      ,  0.046875, ...,  0.      ,  0.001953,\n",
       "         0.00293 ],\n",
       "       [ 0.023438,  0.019531,  0.03125 , ...,  0.023438,  0.025391,\n",
       "         0.022461]])"
      ]
     },
     "execution_count": 5,
     "metadata": {},
     "output_type": "execute_result"
    }
   ],
   "source": [
    "train_x"
   ]
  },
  {
   "cell_type": "markdown",
   "metadata": {},
   "source": [
    "## Build model"
   ]
  },
  {
   "cell_type": "code",
   "execution_count": 34,
   "metadata": {},
   "outputs": [],
   "source": [
    "model = Sequential()\n",
    "\n",
    "model.add(Dense(250, activation='relu', input_dim = train_x.shape[1]))\n",
    "model.add(Dropout(0.2))\n",
    "model.add(Dense(150, activation='relu'))\n",
    "model.add(Dropout(0.4))\n",
    "model.add(Dense(no_of_classes, activation=tf.nn.softmax))"
   ]
  },
  {
   "cell_type": "code",
   "execution_count": 35,
   "metadata": {},
   "outputs": [
    {
     "name": "stdout",
     "output_type": "stream",
     "text": [
      "_________________________________________________________________\n",
      "Layer (type)                 Output Shape              Param #   \n",
      "=================================================================\n",
      "dense_6 (Dense)              (None, 250)               48250     \n",
      "_________________________________________________________________\n",
      "dropout_1 (Dropout)          (None, 250)               0         \n",
      "_________________________________________________________________\n",
      "dense_7 (Dense)              (None, 150)               37650     \n",
      "_________________________________________________________________\n",
      "dropout_2 (Dropout)          (None, 150)               0         \n",
      "_________________________________________________________________\n",
      "dense_8 (Dense)              (None, 99)                14949     \n",
      "=================================================================\n",
      "Total params: 100,849\n",
      "Trainable params: 100,849\n",
      "Non-trainable params: 0\n",
      "_________________________________________________________________\n"
     ]
    }
   ],
   "source": [
    "model.summary()"
   ]
  },
  {
   "cell_type": "code",
   "execution_count": 36,
   "metadata": {},
   "outputs": [],
   "source": [
    "model.compile(loss='categorical_crossentropy', optimizer='adam', metrics=['accuracy'])"
   ]
  },
  {
   "cell_type": "code",
   "execution_count": 38,
   "metadata": {},
   "outputs": [
    {
     "name": "stdout",
     "output_type": "stream",
     "text": [
      "Epoch 1/50\n",
      "990/990 [==============================] - 0s 117us/step - loss: 1.8371 - acc: 0.4556\n",
      "Epoch 2/50\n",
      "990/990 [==============================] - 0s 100us/step - loss: 1.7286 - acc: 0.4949\n",
      "Epoch 3/50\n",
      "990/990 [==============================] - 0s 93us/step - loss: 1.5429 - acc: 0.5545\n",
      "Epoch 4/50\n",
      "990/990 [==============================] - 0s 93us/step - loss: 1.4244 - acc: 0.5879\n",
      "Epoch 5/50\n",
      "990/990 [==============================] - 0s 97us/step - loss: 1.3313 - acc: 0.6152\n",
      "Epoch 6/50\n",
      "990/990 [==============================] - 0s 109us/step - loss: 1.2677 - acc: 0.6323\n",
      "Epoch 7/50\n",
      "990/990 [==============================] - 0s 97us/step - loss: 1.1717 - acc: 0.6535\n",
      "Epoch 8/50\n",
      "990/990 [==============================] - 0s 91us/step - loss: 1.0982 - acc: 0.6747\n",
      "Epoch 9/50\n",
      "990/990 [==============================] - 0s 92us/step - loss: 1.0308 - acc: 0.6919\n",
      "Epoch 10/50\n",
      "990/990 [==============================] - 0s 93us/step - loss: 0.9800 - acc: 0.7091\n",
      "Epoch 11/50\n",
      "990/990 [==============================] - 0s 95us/step - loss: 0.9027 - acc: 0.7192\n",
      "Epoch 12/50\n",
      "990/990 [==============================] - 0s 106us/step - loss: 0.8994 - acc: 0.7343\n",
      "Epoch 13/50\n",
      "990/990 [==============================] - 0s 99us/step - loss: 0.8075 - acc: 0.7586\n",
      "Epoch 14/50\n",
      "990/990 [==============================] - 0s 92us/step - loss: 0.7705 - acc: 0.7808\n",
      "Epoch 15/50\n",
      "990/990 [==============================] - 0s 92us/step - loss: 0.7469 - acc: 0.7606\n",
      "Epoch 16/50\n",
      "990/990 [==============================] - 0s 91us/step - loss: 0.7144 - acc: 0.7828\n",
      "Epoch 17/50\n",
      "990/990 [==============================] - 0s 93us/step - loss: 0.6611 - acc: 0.7929\n",
      "Epoch 18/50\n",
      "990/990 [==============================] - 0s 96us/step - loss: 0.6694 - acc: 0.7929\n",
      "Epoch 19/50\n",
      "990/990 [==============================] - 0s 108us/step - loss: 0.5923 - acc: 0.8273\n",
      "Epoch 20/50\n",
      "990/990 [==============================] - 0s 96us/step - loss: 0.6128 - acc: 0.8313\n",
      "Epoch 21/50\n",
      "990/990 [==============================] - 0s 92us/step - loss: 0.5727 - acc: 0.8293\n",
      "Epoch 22/50\n",
      "990/990 [==============================] - 0s 98us/step - loss: 0.5569 - acc: 0.8475\n",
      "Epoch 23/50\n",
      "990/990 [==============================] - 0s 94us/step - loss: 0.5081 - acc: 0.8566\n",
      "Epoch 24/50\n",
      "990/990 [==============================] - 0s 98us/step - loss: 0.5216 - acc: 0.8404\n",
      "Epoch 25/50\n",
      "990/990 [==============================] - 0s 111us/step - loss: 0.4966 - acc: 0.8657\n",
      "Epoch 26/50\n",
      "990/990 [==============================] - 0s 108us/step - loss: 0.4857 - acc: 0.8545\n",
      "Epoch 27/50\n",
      "990/990 [==============================] - 0s 93us/step - loss: 0.4854 - acc: 0.8394\n",
      "Epoch 28/50\n",
      "990/990 [==============================] - 0s 91us/step - loss: 0.4512 - acc: 0.8596\n",
      "Epoch 29/50\n",
      "990/990 [==============================] - ETA: 0s - loss: 0.3725 - acc: 0.888 - 0s 93us/step - loss: 0.4217 - acc: 0.8747\n",
      "Epoch 30/50\n",
      "990/990 [==============================] - 0s 96us/step - loss: 0.4015 - acc: 0.8909\n",
      "Epoch 31/50\n",
      "990/990 [==============================] - 0s 92us/step - loss: 0.4119 - acc: 0.8859\n",
      "Epoch 32/50\n",
      "990/990 [==============================] - 0s 96us/step - loss: 0.4053 - acc: 0.8758\n",
      "Epoch 33/50\n",
      "990/990 [==============================] - 0s 113us/step - loss: 0.3903 - acc: 0.8798\n",
      "Epoch 34/50\n",
      "990/990 [==============================] - 0s 105us/step - loss: 0.3396 - acc: 0.9051\n",
      "Epoch 35/50\n",
      "990/990 [==============================] - 0s 93us/step - loss: 0.3550 - acc: 0.9020\n",
      "Epoch 36/50\n",
      "990/990 [==============================] - 0s 92us/step - loss: 0.3341 - acc: 0.9000\n",
      "Epoch 37/50\n",
      "990/990 [==============================] - 0s 95us/step - loss: 0.3190 - acc: 0.9131\n",
      "Epoch 38/50\n",
      "990/990 [==============================] - 0s 94us/step - loss: 0.2997 - acc: 0.9051\n",
      "Epoch 39/50\n",
      "990/990 [==============================] - 0s 94us/step - loss: 0.3069 - acc: 0.9071\n",
      "Epoch 40/50\n",
      "990/990 [==============================] - 0s 94us/step - loss: 0.3086 - acc: 0.9051\n",
      "Epoch 41/50\n",
      "990/990 [==============================] - 0s 93us/step - loss: 0.3057 - acc: 0.9081\n",
      "Epoch 42/50\n",
      "990/990 [==============================] - 0s 92us/step - loss: 0.2755 - acc: 0.9162\n",
      "Epoch 43/50\n",
      "990/990 [==============================] - 0s 101us/step - loss: 0.2708 - acc: 0.9232\n",
      "Epoch 44/50\n",
      "990/990 [==============================] - 0s 95us/step - loss: 0.2573 - acc: 0.9374\n",
      "Epoch 45/50\n",
      "990/990 [==============================] - 0s 95us/step - loss: 0.2693 - acc: 0.9232\n",
      "Epoch 46/50\n",
      "990/990 [==============================] - 0s 94us/step - loss: 0.2349 - acc: 0.9343\n",
      "Epoch 47/50\n",
      "990/990 [==============================] - 0s 98us/step - loss: 0.2341 - acc: 0.9323\n",
      "Epoch 48/50\n",
      "990/990 [==============================] - 0s 102us/step - loss: 0.2238 - acc: 0.9364\n",
      "Epoch 49/50\n",
      "990/990 [==============================] - 0s 102us/step - loss: 0.2481 - acc: 0.9242\n",
      "Epoch 50/50\n",
      "990/990 [==============================] - 0s 96us/step - loss: 0.2344 - acc: 0.9313\n"
     ]
    },
    {
     "data": {
      "text/plain": [
       "<keras.callbacks.History at 0x2928c200518>"
      ]
     },
     "execution_count": 38,
     "metadata": {},
     "output_type": "execute_result"
    }
   ],
   "source": [
    "model.fit(train_x, train_y, epochs = 50)"
   ]
  },
  {
   "cell_type": "markdown",
   "metadata": {},
   "source": [
    "## Test"
   ]
  },
  {
   "cell_type": "code",
   "execution_count": 39,
   "metadata": {},
   "outputs": [],
   "source": [
    "test_data_frame = pd.read_csv(LABEL_PATH + TEST_FILE_NAME)\n",
    "\n",
    "index = test_data_frame.pop('id')\n",
    "\n",
    "#test_x = StandardScaler().fit(test_data_frame).transform(test_data_frame)\n",
    "test_x = test_data_frame.get_values()"
   ]
  },
  {
   "cell_type": "code",
   "execution_count": 40,
   "metadata": {},
   "outputs": [],
   "source": [
    "test_y = model.predict_classes(test_x)"
   ]
  },
  {
   "cell_type": "code",
   "execution_count": 41,
   "metadata": {},
   "outputs": [
    {
     "data": {
      "text/plain": [
       "array([51, 50,  1, 19, 14,  3,  3, 28, 84,  8, 43, 74, 75, 10, 52, 60, 45,\n",
       "       73, 13, 71, 61, 68, 57, 77,  1, 70, 28, 15, 35, 70, 53, 74, 47, 50,\n",
       "        4, 36, 14, 55, 36, 93,  8, 32,  8,  9, 71, 70, 38, 23, 94, 18, 17,\n",
       "        5, 55, 94, 14, 86, 62, 33, 51, 98, 88, 56, 21, 59, 65, 11, 48,  5,\n",
       "       13,  4, 54, 57, 29,  7, 31, 98, 92, 84, 25, 10, 61, 43, 85, 24,  1,\n",
       "        2, 23, 83, 40, 22, 48, 90, 25, 21, 37, 56, 41, 95,  7, 49, 98, 77,\n",
       "        3, 12, 31, 84, 53, 96, 64, 72, 93, 93, 67, 30,  8, 88, 60, 87,  6,\n",
       "       57, 34, 34, 60, 17, 75, 27, 51, 88, 39, 23, 23,  2, 41, 61, 24, 97,\n",
       "       29, 28, 68, 81, 42, 51, 86, 62, 60, 52, 95, 81, 42, 96, 95, 20, 59,\n",
       "       35, 86,  1, 26, 38, 43, 75, 20, 60, 46, 79, 22, 79, 69, 87, 65, 97,\n",
       "       75, 21, 29, 21, 11, 10, 58, 94, 27, 22, 15, 45, 89, 54, 43,  5, 23,\n",
       "       94, 40, 49, 89, 72, 36, 89, 81, 95, 18, 91, 29, 64, 80,  6, 78, 45,\n",
       "       28,  9, 78, 90, 44, 89, 92, 13,  2, 59,  0, 96, 70, 32, 29, 78, 91,\n",
       "       55, 44, 38,  5, 60, 49, 92, 94, 67, 58, 88, 90, 79, 25, 29, 18,  0,\n",
       "       76, 27, 70, 71, 44, 70, 32, 90, 30, 82, 34, 30, 82, 96, 48, 65, 57,\n",
       "       64, 26, 53, 55, 73,  9,  3, 83, 41, 30, 63, 13, 22, 36, 63, 12, 78,\n",
       "       36, 14, 27, 25, 67, 38, 20, 54, 76, 69, 67, 97, 80, 44, 92, 69, 23,\n",
       "       21, 11, 51, 33, 77, 16, 11, 97,  1, 52, 39, 24, 52, 42, 17,  2, 73,\n",
       "       96, 83, 88,  9, 63, 50, 16, 38, 87, 95,  3, 35, 83, 60, 59, 58,  0,\n",
       "       83, 62, 38, 93, 68, 55, 46, 19, 46, 94, 18,  0, 33, 49, 40, 62, 48,\n",
       "       42,  6, 31, 91, 73, 81, 12, 85, 26,  6, 79,  2, 22, 35, 43,  6, 80,\n",
       "       78, 82,  5, 61, 37, 43, 33, 69, 56, 71, 45, 59, 30, 66, 86, 98, 83,\n",
       "       90, 64, 82, 89, 79, 56, 56, 49, 48, 20, 74, 15, 33, 49, 89, 44,  7,\n",
       "       35, 14, 55, 23, 34, 44, 32, 30, 36,  9, 72, 31, 61, 50, 82, 34, 28,\n",
       "       22, 92, 72, 11, 19,  4, 87, 51, 71, 39, 84, 32, 66, 36, 41, 81, 80,\n",
       "        4, 47, 68, 96, 20, 39, 34, 39, 56, 73, 76, 84,  7, 67, 37,  8, 95,\n",
       "       85, 62, 10, 65, 41,  2,  7, 86, 41, 52,  3, 49, 47, 76, 52, 11, 26,\n",
       "       88, 63, 45, 39, 66, 87, 75, 74,  7, 64, 65, 78, 63,  3, 21, 61, 88,\n",
       "       62, 91, 59,  3, 74, 15, 85,  8, 66, 57, 83, 82, 72, 58, 96, 17, 67,\n",
       "       66, 57, 66, 92, 35, 18,  9, 54, 91, 65, 19, 15, 10, 24, 71, 86, 48,\n",
       "       39, 98, 16, 19, 45, 74,  6, 81, 42, 34, 71, 47, 85, 28, 85, 47, 25,\n",
       "       27, 58, 68, 84, 97, 63, 97, 54, 81, 87, 77, 13,  0, 28, 41, 95, 12,\n",
       "       33, 86, 46,  4,  4, 47, 30, 19, 58, 13, 77, 98,  5, 49, 72, 53, 32,\n",
       "       77, 40, 68, 26, 92, 16, 81, 37, 14, 93, 80, 53, 46, 25, 50, 17, 37,\n",
       "       93,  0, 20, 54, 10, 91, 40, 81, 53, 18, 27,  1, 12, 54, 73, 15], dtype=int64)"
      ]
     },
     "execution_count": 41,
     "metadata": {},
     "output_type": "execute_result"
    }
   ],
   "source": [
    "test_y"
   ]
  },
  {
   "cell_type": "code",
   "execution_count": 42,
   "metadata": {},
   "outputs": [],
   "source": [
    "data_grid = np.zeros((len(test_y), len(classes)))\n",
    "\n",
    "for n in range(len(test_y)):\n",
    "    data_grid[n][test_y[n]] = 1\n",
    "    \n"
   ]
  },
  {
   "cell_type": "code",
   "execution_count": 43,
   "metadata": {},
   "outputs": [],
   "source": [
    "prediction = pd.DataFrame(data_grid, index = index, columns = classes)"
   ]
  },
  {
   "cell_type": "code",
   "execution_count": 44,
   "metadata": {},
   "outputs": [
    {
     "data": {
      "text/plain": [
       "(594,)"
      ]
     },
     "execution_count": 44,
     "metadata": {},
     "output_type": "execute_result"
    }
   ],
   "source": [
    "np.shape(test_y)"
   ]
  },
  {
   "cell_type": "code",
   "execution_count": 45,
   "metadata": {},
   "outputs": [],
   "source": [
    "with open('submission.csv','w') as file:\n",
    "    file.write(prediction.to_csv())\n"
   ]
  },
  {
   "cell_type": "code",
   "execution_count": null,
   "metadata": {},
   "outputs": [],
   "source": []
  }
 ],
 "metadata": {
  "kernelspec": {
   "display_name": "Python 3",
   "language": "python",
   "name": "python3"
  },
  "language_info": {
   "codemirror_mode": {
    "name": "ipython",
    "version": 3
   },
   "file_extension": ".py",
   "mimetype": "text/x-python",
   "name": "python",
   "nbconvert_exporter": "python",
   "pygments_lexer": "ipython3",
   "version": "3.5.2"
  }
 },
 "nbformat": 4,
 "nbformat_minor": 2
}
